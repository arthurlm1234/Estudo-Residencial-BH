{
 "cells": [
  {
   "cell_type": "markdown",
   "id": "1d0d9408",
   "metadata": {},
   "source": [
    "# BOOTSTRAP:"
   ]
  },
  {
   "cell_type": "markdown",
   "id": "d0ecba5b",
   "metadata": {},
   "source": [
    "Primeiro vamos importar as bibliotecas necessárias."
   ]
  },
  {
   "cell_type": "code",
   "execution_count": 52,
   "id": "3d88fee1",
   "metadata": {},
   "outputs": [],
   "source": [
    "import re\n",
    "import pandas as pd\n",
    "import matplotlib.pyplot as plt\n",
    "import seaborn as sns\n",
    "import numpy as np\n",
    "import matplotlib.ticker as ticker\n",
    "from matplotlib.ticker import ScalarFormatter\n",
    "from matplotlib.ticker import MultipleLocator\n",
    "from scipy import stats as ss\n",
    "from tqdm import tqdm"
   ]
  },
  {
   "cell_type": "markdown",
   "id": "15d1e200",
   "metadata": {},
   "source": [
    "Agora vamos importar a base de dados e adicionar a coluna 'Área total'."
   ]
  },
  {
   "cell_type": "code",
   "execution_count": 6,
   "id": "9dfec794",
   "metadata": {},
   "outputs": [
    {
     "data": {
      "text/html": [
       "<div>\n",
       "<style scoped>\n",
       "    .dataframe tbody tr th:only-of-type {\n",
       "        vertical-align: middle;\n",
       "    }\n",
       "\n",
       "    .dataframe tbody tr th {\n",
       "        vertical-align: top;\n",
       "    }\n",
       "\n",
       "    .dataframe thead th {\n",
       "        text-align: right;\n",
       "    }\n",
       "</style>\n",
       "<table border=\"1\" class=\"dataframe\">\n",
       "  <thead>\n",
       "    <tr style=\"text-align: right;\">\n",
       "      <th></th>\n",
       "      <th>Código</th>\n",
       "      <th>Título</th>\n",
       "      <th>Tipo Imóvel</th>\n",
       "      <th>Bairro</th>\n",
       "      <th>Endereço</th>\n",
       "      <th>Área interna</th>\n",
       "      <th>Área externa</th>\n",
       "      <th># de quartos</th>\n",
       "      <th># de banheiros</th>\n",
       "      <th># de suítes</th>\n",
       "      <th># de vagas</th>\n",
       "      <th>IPTU</th>\n",
       "      <th>Condomínio</th>\n",
       "      <th>Preço</th>\n",
       "      <th>Área total</th>\n",
       "    </tr>\n",
       "  </thead>\n",
       "  <tbody>\n",
       "    <tr>\n",
       "      <th>0</th>\n",
       "      <td>23807</td>\n",
       "      <td>Cobertura à venda, Carmo - Belo Horizonte/MG</td>\n",
       "      <td>Cobertura</td>\n",
       "      <td>Carmo</td>\n",
       "      <td>746,Rua Pium-I,Carmo,Belo Horizonte</td>\n",
       "      <td>127.63</td>\n",
       "      <td>0.00</td>\n",
       "      <td>2.0</td>\n",
       "      <td>2.0</td>\n",
       "      <td>1.0</td>\n",
       "      <td>3.0</td>\n",
       "      <td>NaN</td>\n",
       "      <td>NaN</td>\n",
       "      <td>1350000.00</td>\n",
       "      <td>127.63</td>\n",
       "    </tr>\n",
       "    <tr>\n",
       "      <th>1</th>\n",
       "      <td>23806</td>\n",
       "      <td>Cobertura à venda, Carmo - Belo Horizonte/MG</td>\n",
       "      <td>Cobertura</td>\n",
       "      <td>Carmo</td>\n",
       "      <td>746,Rua Pium-I,Carmo,Belo Horizonte</td>\n",
       "      <td>138.02</td>\n",
       "      <td>0.00</td>\n",
       "      <td>2.0</td>\n",
       "      <td>2.0</td>\n",
       "      <td>1.0</td>\n",
       "      <td>3.0</td>\n",
       "      <td>NaN</td>\n",
       "      <td>NaN</td>\n",
       "      <td>1450000.00</td>\n",
       "      <td>138.02</td>\n",
       "    </tr>\n",
       "    <tr>\n",
       "      <th>2</th>\n",
       "      <td>22922</td>\n",
       "      <td>Apartamento 2 Quartos à venda, Carmo - Belo Ho...</td>\n",
       "      <td>Apartamento</td>\n",
       "      <td>Carmo</td>\n",
       "      <td>746,Rua Pium-I,Carmo,Belo Horizonte</td>\n",
       "      <td>63.81</td>\n",
       "      <td>0.00</td>\n",
       "      <td>2.0</td>\n",
       "      <td>2.0</td>\n",
       "      <td>1.0</td>\n",
       "      <td>2.0</td>\n",
       "      <td>NaN</td>\n",
       "      <td>NaN</td>\n",
       "      <td>915000.00</td>\n",
       "      <td>63.81</td>\n",
       "    </tr>\n",
       "    <tr>\n",
       "      <th>3</th>\n",
       "      <td>22918</td>\n",
       "      <td>Apartamento 2 Quartos à venda, Carmo - Belo Ho...</td>\n",
       "      <td>Apartamento</td>\n",
       "      <td>Carmo</td>\n",
       "      <td>746,Rua Pium-I,Carmo,Belo Horizonte</td>\n",
       "      <td>65.10</td>\n",
       "      <td>0.00</td>\n",
       "      <td>2.0</td>\n",
       "      <td>2.0</td>\n",
       "      <td>1.0</td>\n",
       "      <td>2.0</td>\n",
       "      <td>NaN</td>\n",
       "      <td>NaN</td>\n",
       "      <td>883000.00</td>\n",
       "      <td>65.10</td>\n",
       "    </tr>\n",
       "    <tr>\n",
       "      <th>4</th>\n",
       "      <td>22917</td>\n",
       "      <td>Área privativa à venda, Carmo - Belo Horizonte/MG</td>\n",
       "      <td>Área privativa</td>\n",
       "      <td>Carmo</td>\n",
       "      <td>746,Rua Pium-I,Carmo,Belo Horizonte</td>\n",
       "      <td>107.38</td>\n",
       "      <td>0.00</td>\n",
       "      <td>2.0</td>\n",
       "      <td>2.0</td>\n",
       "      <td>1.0</td>\n",
       "      <td>2.0</td>\n",
       "      <td>NaN</td>\n",
       "      <td>NaN</td>\n",
       "      <td>1226000.00</td>\n",
       "      <td>107.38</td>\n",
       "    </tr>\n",
       "    <tr>\n",
       "      <th>...</th>\n",
       "      <td>...</td>\n",
       "      <td>...</td>\n",
       "      <td>...</td>\n",
       "      <td>...</td>\n",
       "      <td>...</td>\n",
       "      <td>...</td>\n",
       "      <td>...</td>\n",
       "      <td>...</td>\n",
       "      <td>...</td>\n",
       "      <td>...</td>\n",
       "      <td>...</td>\n",
       "      <td>...</td>\n",
       "      <td>...</td>\n",
       "      <td>...</td>\n",
       "      <td>...</td>\n",
       "    </tr>\n",
       "    <tr>\n",
       "      <th>2288</th>\n",
       "      <td>5380</td>\n",
       "      <td>Área privativa à venda, Sagrada Família - Belo...</td>\n",
       "      <td>Área privativa</td>\n",
       "      <td>Sagrada Família</td>\n",
       "      <td>685,Rua São Roque,Sagrada Família,Belo Horizonte</td>\n",
       "      <td>91.53</td>\n",
       "      <td>0.00</td>\n",
       "      <td>3.0</td>\n",
       "      <td>2.0</td>\n",
       "      <td>1.0</td>\n",
       "      <td>3.0</td>\n",
       "      <td>319.34</td>\n",
       "      <td>399.0</td>\n",
       "      <td>624235.50</td>\n",
       "      <td>91.53</td>\n",
       "    </tr>\n",
       "    <tr>\n",
       "      <th>2289</th>\n",
       "      <td>5379</td>\n",
       "      <td>Área privativa à venda, Sagrada Família - Belo...</td>\n",
       "      <td>Área privativa</td>\n",
       "      <td>Sagrada Família</td>\n",
       "      <td>685,Rua São Roque,Sagrada Família,Belo Horizonte</td>\n",
       "      <td>137.39</td>\n",
       "      <td>0.00</td>\n",
       "      <td>3.0</td>\n",
       "      <td>2.0</td>\n",
       "      <td>1.0</td>\n",
       "      <td>3.0</td>\n",
       "      <td>319.34</td>\n",
       "      <td>399.0</td>\n",
       "      <td>864803.45</td>\n",
       "      <td>137.39</td>\n",
       "    </tr>\n",
       "    <tr>\n",
       "      <th>2290</th>\n",
       "      <td>9808</td>\n",
       "      <td>Área privativa à venda, Belvedere - Belo Horiz...</td>\n",
       "      <td>Área privativa</td>\n",
       "      <td>Belvedere</td>\n",
       "      <td>47,Rua Cypriano Souza Coutinho,Belvedere,Belo ...</td>\n",
       "      <td>227.14</td>\n",
       "      <td>0.00</td>\n",
       "      <td>4.0</td>\n",
       "      <td>3.0</td>\n",
       "      <td>2.0</td>\n",
       "      <td>4.0</td>\n",
       "      <td>NaN</td>\n",
       "      <td>NaN</td>\n",
       "      <td>3112866.00</td>\n",
       "      <td>227.14</td>\n",
       "    </tr>\n",
       "    <tr>\n",
       "      <th>2291</th>\n",
       "      <td>17364</td>\n",
       "      <td>Cobertura à venda, Anchieta - Belo Horizonte/MG</td>\n",
       "      <td>Cobertura</td>\n",
       "      <td>Anchieta</td>\n",
       "      <td>87,Rua Américo Diamantino,Anchieta,Belo Horizonte</td>\n",
       "      <td>64.47</td>\n",
       "      <td>64.45</td>\n",
       "      <td>2.0</td>\n",
       "      <td>2.0</td>\n",
       "      <td>2.0</td>\n",
       "      <td>2.0</td>\n",
       "      <td>NaN</td>\n",
       "      <td>NaN</td>\n",
       "      <td>1475010.22</td>\n",
       "      <td>128.92</td>\n",
       "    </tr>\n",
       "    <tr>\n",
       "      <th>2292</th>\n",
       "      <td>6795</td>\n",
       "      <td>Cobertura à venda, Castelo - Belo Horizonte/MG</td>\n",
       "      <td>Cobertura</td>\n",
       "      <td>Castelo</td>\n",
       "      <td>315,Rua Desembargador José Satyro,Castelo,Belo...</td>\n",
       "      <td>160.53</td>\n",
       "      <td>50.26</td>\n",
       "      <td>3.0</td>\n",
       "      <td>2.0</td>\n",
       "      <td>1.0</td>\n",
       "      <td>3.0</td>\n",
       "      <td>NaN</td>\n",
       "      <td>NaN</td>\n",
       "      <td>861600.00</td>\n",
       "      <td>210.79</td>\n",
       "    </tr>\n",
       "  </tbody>\n",
       "</table>\n",
       "<p>2293 rows × 15 columns</p>\n",
       "</div>"
      ],
      "text/plain": [
       "      Código                                             Título   \n",
       "0      23807       Cobertura à venda, Carmo - Belo Horizonte/MG  \\\n",
       "1      23806       Cobertura à venda, Carmo - Belo Horizonte/MG   \n",
       "2      22922  Apartamento 2 Quartos à venda, Carmo - Belo Ho...   \n",
       "3      22918  Apartamento 2 Quartos à venda, Carmo - Belo Ho...   \n",
       "4      22917  Área privativa à venda, Carmo - Belo Horizonte/MG   \n",
       "...      ...                                                ...   \n",
       "2288    5380  Área privativa à venda, Sagrada Família - Belo...   \n",
       "2289    5379  Área privativa à venda, Sagrada Família - Belo...   \n",
       "2290    9808  Área privativa à venda, Belvedere - Belo Horiz...   \n",
       "2291   17364    Cobertura à venda, Anchieta - Belo Horizonte/MG   \n",
       "2292    6795     Cobertura à venda, Castelo - Belo Horizonte/MG   \n",
       "\n",
       "         Tipo Imóvel            Bairro   \n",
       "0          Cobertura            Carmo   \\\n",
       "1          Cobertura            Carmo    \n",
       "2        Apartamento            Carmo    \n",
       "3        Apartamento            Carmo    \n",
       "4     Área privativa            Carmo    \n",
       "...              ...               ...   \n",
       "2288  Área privativa  Sagrada Família    \n",
       "2289  Área privativa  Sagrada Família    \n",
       "2290  Área privativa        Belvedere    \n",
       "2291       Cobertura         Anchieta    \n",
       "2292       Cobertura          Castelo    \n",
       "\n",
       "                                               Endereço  Área interna   \n",
       "0                   746,Rua Pium-I,Carmo,Belo Horizonte        127.63  \\\n",
       "1                   746,Rua Pium-I,Carmo,Belo Horizonte        138.02   \n",
       "2                   746,Rua Pium-I,Carmo,Belo Horizonte         63.81   \n",
       "3                   746,Rua Pium-I,Carmo,Belo Horizonte         65.10   \n",
       "4                   746,Rua Pium-I,Carmo,Belo Horizonte        107.38   \n",
       "...                                                 ...           ...   \n",
       "2288   685,Rua São Roque,Sagrada Família,Belo Horizonte         91.53   \n",
       "2289   685,Rua São Roque,Sagrada Família,Belo Horizonte        137.39   \n",
       "2290  47,Rua Cypriano Souza Coutinho,Belvedere,Belo ...        227.14   \n",
       "2291  87,Rua Américo Diamantino,Anchieta,Belo Horizonte         64.47   \n",
       "2292  315,Rua Desembargador José Satyro,Castelo,Belo...        160.53   \n",
       "\n",
       "      Área externa  # de quartos  # de banheiros  # de suítes  # de vagas   \n",
       "0             0.00           2.0             2.0          1.0         3.0  \\\n",
       "1             0.00           2.0             2.0          1.0         3.0   \n",
       "2             0.00           2.0             2.0          1.0         2.0   \n",
       "3             0.00           2.0             2.0          1.0         2.0   \n",
       "4             0.00           2.0             2.0          1.0         2.0   \n",
       "...            ...           ...             ...          ...         ...   \n",
       "2288          0.00           3.0             2.0          1.0         3.0   \n",
       "2289          0.00           3.0             2.0          1.0         3.0   \n",
       "2290          0.00           4.0             3.0          2.0         4.0   \n",
       "2291         64.45           2.0             2.0          2.0         2.0   \n",
       "2292         50.26           3.0             2.0          1.0         3.0   \n",
       "\n",
       "        IPTU  Condomínio       Preço  Área total  \n",
       "0        NaN         NaN  1350000.00      127.63  \n",
       "1        NaN         NaN  1450000.00      138.02  \n",
       "2        NaN         NaN   915000.00       63.81  \n",
       "3        NaN         NaN   883000.00       65.10  \n",
       "4        NaN         NaN  1226000.00      107.38  \n",
       "...      ...         ...         ...         ...  \n",
       "2288  319.34       399.0   624235.50       91.53  \n",
       "2289  319.34       399.0   864803.45      137.39  \n",
       "2290     NaN         NaN  3112866.00      227.14  \n",
       "2291     NaN         NaN  1475010.22      128.92  \n",
       "2292     NaN         NaN   861600.00      210.79  \n",
       "\n",
       "[2293 rows x 15 columns]"
      ]
     },
     "execution_count": 6,
     "metadata": {},
     "output_type": "execute_result"
    }
   ],
   "source": [
    "df = pd.read_csv('DecisaoImoveisLimpo.csv')\n",
    "\n",
    "# Soma a área interna com a área externa para obter a área total do imóvel\n",
    "df['Área total'] = df['Área interna'] + df['Área externa']\n",
    "df"
   ]
  },
  {
   "cell_type": "markdown",
   "id": "4473abb6",
   "metadata": {},
   "source": [
    "Em seguida, tratamos os dados e criamos um novo dataframe com o preço por metro quadrado de cada imóvel."
   ]
  },
  {
   "cell_type": "code",
   "execution_count": 53,
   "id": "cbf3fb34",
   "metadata": {},
   "outputs": [
    {
     "name": "stderr",
     "output_type": "stream",
     "text": [
      "/tmp/ipykernel_5571/2701873835.py:10: SettingWithCopyWarning: \n",
      "A value is trying to be set on a copy of a slice from a DataFrame.\n",
      "Try using .loc[row_indexer,col_indexer] = value instead\n",
      "\n",
      "See the caveats in the documentation: https://pandas.pydata.org/pandas-docs/stable/user_guide/indexing.html#returning-a-view-versus-a-copy\n",
      "  df_com_metro_quadrado['Metro quadrado'] = round(df['Preço'] / df['Área total'], 1)\n"
     ]
    },
    {
     "data": {
      "text/html": [
       "<div>\n",
       "<style scoped>\n",
       "    .dataframe tbody tr th:only-of-type {\n",
       "        vertical-align: middle;\n",
       "    }\n",
       "\n",
       "    .dataframe tbody tr th {\n",
       "        vertical-align: top;\n",
       "    }\n",
       "\n",
       "    .dataframe thead th {\n",
       "        text-align: right;\n",
       "    }\n",
       "</style>\n",
       "<table border=\"1\" class=\"dataframe\">\n",
       "  <thead>\n",
       "    <tr style=\"text-align: right;\">\n",
       "      <th></th>\n",
       "      <th>Código</th>\n",
       "      <th>Título</th>\n",
       "      <th>Tipo Imóvel</th>\n",
       "      <th>Bairro</th>\n",
       "      <th>Endereço</th>\n",
       "      <th>Área interna</th>\n",
       "      <th>Área externa</th>\n",
       "      <th># de quartos</th>\n",
       "      <th># de banheiros</th>\n",
       "      <th># de suítes</th>\n",
       "      <th># de vagas</th>\n",
       "      <th>IPTU</th>\n",
       "      <th>Condomínio</th>\n",
       "      <th>Preço</th>\n",
       "      <th>Área total</th>\n",
       "      <th>Metro quadrado</th>\n",
       "    </tr>\n",
       "  </thead>\n",
       "  <tbody>\n",
       "    <tr>\n",
       "      <th>0</th>\n",
       "      <td>23807</td>\n",
       "      <td>Cobertura à venda, Carmo - Belo Horizonte/MG</td>\n",
       "      <td>Cobertura</td>\n",
       "      <td>Carmo</td>\n",
       "      <td>746,Rua Pium-I,Carmo,Belo Horizonte</td>\n",
       "      <td>127.63</td>\n",
       "      <td>0.00</td>\n",
       "      <td>2.0</td>\n",
       "      <td>2.0</td>\n",
       "      <td>1.0</td>\n",
       "      <td>3.0</td>\n",
       "      <td>NaN</td>\n",
       "      <td>NaN</td>\n",
       "      <td>1350000.00</td>\n",
       "      <td>127.63</td>\n",
       "      <td>10577.5</td>\n",
       "    </tr>\n",
       "    <tr>\n",
       "      <th>1</th>\n",
       "      <td>23806</td>\n",
       "      <td>Cobertura à venda, Carmo - Belo Horizonte/MG</td>\n",
       "      <td>Cobertura</td>\n",
       "      <td>Carmo</td>\n",
       "      <td>746,Rua Pium-I,Carmo,Belo Horizonte</td>\n",
       "      <td>138.02</td>\n",
       "      <td>0.00</td>\n",
       "      <td>2.0</td>\n",
       "      <td>2.0</td>\n",
       "      <td>1.0</td>\n",
       "      <td>3.0</td>\n",
       "      <td>NaN</td>\n",
       "      <td>NaN</td>\n",
       "      <td>1450000.00</td>\n",
       "      <td>138.02</td>\n",
       "      <td>10505.7</td>\n",
       "    </tr>\n",
       "    <tr>\n",
       "      <th>2</th>\n",
       "      <td>22922</td>\n",
       "      <td>Apartamento 2 Quartos à venda, Carmo - Belo Ho...</td>\n",
       "      <td>Apartamento</td>\n",
       "      <td>Carmo</td>\n",
       "      <td>746,Rua Pium-I,Carmo,Belo Horizonte</td>\n",
       "      <td>63.81</td>\n",
       "      <td>0.00</td>\n",
       "      <td>2.0</td>\n",
       "      <td>2.0</td>\n",
       "      <td>1.0</td>\n",
       "      <td>2.0</td>\n",
       "      <td>NaN</td>\n",
       "      <td>NaN</td>\n",
       "      <td>915000.00</td>\n",
       "      <td>63.81</td>\n",
       "      <td>14339.4</td>\n",
       "    </tr>\n",
       "    <tr>\n",
       "      <th>3</th>\n",
       "      <td>22918</td>\n",
       "      <td>Apartamento 2 Quartos à venda, Carmo - Belo Ho...</td>\n",
       "      <td>Apartamento</td>\n",
       "      <td>Carmo</td>\n",
       "      <td>746,Rua Pium-I,Carmo,Belo Horizonte</td>\n",
       "      <td>65.10</td>\n",
       "      <td>0.00</td>\n",
       "      <td>2.0</td>\n",
       "      <td>2.0</td>\n",
       "      <td>1.0</td>\n",
       "      <td>2.0</td>\n",
       "      <td>NaN</td>\n",
       "      <td>NaN</td>\n",
       "      <td>883000.00</td>\n",
       "      <td>65.10</td>\n",
       "      <td>13563.7</td>\n",
       "    </tr>\n",
       "    <tr>\n",
       "      <th>4</th>\n",
       "      <td>22917</td>\n",
       "      <td>Área privativa à venda, Carmo - Belo Horizonte/MG</td>\n",
       "      <td>Área privativa</td>\n",
       "      <td>Carmo</td>\n",
       "      <td>746,Rua Pium-I,Carmo,Belo Horizonte</td>\n",
       "      <td>107.38</td>\n",
       "      <td>0.00</td>\n",
       "      <td>2.0</td>\n",
       "      <td>2.0</td>\n",
       "      <td>1.0</td>\n",
       "      <td>2.0</td>\n",
       "      <td>NaN</td>\n",
       "      <td>NaN</td>\n",
       "      <td>1226000.00</td>\n",
       "      <td>107.38</td>\n",
       "      <td>11417.4</td>\n",
       "    </tr>\n",
       "    <tr>\n",
       "      <th>...</th>\n",
       "      <td>...</td>\n",
       "      <td>...</td>\n",
       "      <td>...</td>\n",
       "      <td>...</td>\n",
       "      <td>...</td>\n",
       "      <td>...</td>\n",
       "      <td>...</td>\n",
       "      <td>...</td>\n",
       "      <td>...</td>\n",
       "      <td>...</td>\n",
       "      <td>...</td>\n",
       "      <td>...</td>\n",
       "      <td>...</td>\n",
       "      <td>...</td>\n",
       "      <td>...</td>\n",
       "      <td>...</td>\n",
       "    </tr>\n",
       "    <tr>\n",
       "      <th>2288</th>\n",
       "      <td>5380</td>\n",
       "      <td>Área privativa à venda, Sagrada Família - Belo...</td>\n",
       "      <td>Área privativa</td>\n",
       "      <td>Sagrada Família</td>\n",
       "      <td>685,Rua São Roque,Sagrada Família,Belo Horizonte</td>\n",
       "      <td>91.53</td>\n",
       "      <td>0.00</td>\n",
       "      <td>3.0</td>\n",
       "      <td>2.0</td>\n",
       "      <td>1.0</td>\n",
       "      <td>3.0</td>\n",
       "      <td>319.34</td>\n",
       "      <td>399.0</td>\n",
       "      <td>624235.50</td>\n",
       "      <td>91.53</td>\n",
       "      <td>6820.0</td>\n",
       "    </tr>\n",
       "    <tr>\n",
       "      <th>2289</th>\n",
       "      <td>5379</td>\n",
       "      <td>Área privativa à venda, Sagrada Família - Belo...</td>\n",
       "      <td>Área privativa</td>\n",
       "      <td>Sagrada Família</td>\n",
       "      <td>685,Rua São Roque,Sagrada Família,Belo Horizonte</td>\n",
       "      <td>137.39</td>\n",
       "      <td>0.00</td>\n",
       "      <td>3.0</td>\n",
       "      <td>2.0</td>\n",
       "      <td>1.0</td>\n",
       "      <td>3.0</td>\n",
       "      <td>319.34</td>\n",
       "      <td>399.0</td>\n",
       "      <td>864803.45</td>\n",
       "      <td>137.39</td>\n",
       "      <td>6294.5</td>\n",
       "    </tr>\n",
       "    <tr>\n",
       "      <th>2290</th>\n",
       "      <td>9808</td>\n",
       "      <td>Área privativa à venda, Belvedere - Belo Horiz...</td>\n",
       "      <td>Área privativa</td>\n",
       "      <td>Belvedere</td>\n",
       "      <td>47,Rua Cypriano Souza Coutinho,Belvedere,Belo ...</td>\n",
       "      <td>227.14</td>\n",
       "      <td>0.00</td>\n",
       "      <td>4.0</td>\n",
       "      <td>3.0</td>\n",
       "      <td>2.0</td>\n",
       "      <td>4.0</td>\n",
       "      <td>NaN</td>\n",
       "      <td>NaN</td>\n",
       "      <td>3112866.00</td>\n",
       "      <td>227.14</td>\n",
       "      <td>13704.6</td>\n",
       "    </tr>\n",
       "    <tr>\n",
       "      <th>2291</th>\n",
       "      <td>17364</td>\n",
       "      <td>Cobertura à venda, Anchieta - Belo Horizonte/MG</td>\n",
       "      <td>Cobertura</td>\n",
       "      <td>Anchieta</td>\n",
       "      <td>87,Rua Américo Diamantino,Anchieta,Belo Horizonte</td>\n",
       "      <td>64.47</td>\n",
       "      <td>64.45</td>\n",
       "      <td>2.0</td>\n",
       "      <td>2.0</td>\n",
       "      <td>2.0</td>\n",
       "      <td>2.0</td>\n",
       "      <td>NaN</td>\n",
       "      <td>NaN</td>\n",
       "      <td>1475010.22</td>\n",
       "      <td>128.92</td>\n",
       "      <td>11441.3</td>\n",
       "    </tr>\n",
       "    <tr>\n",
       "      <th>2292</th>\n",
       "      <td>6795</td>\n",
       "      <td>Cobertura à venda, Castelo - Belo Horizonte/MG</td>\n",
       "      <td>Cobertura</td>\n",
       "      <td>Castelo</td>\n",
       "      <td>315,Rua Desembargador José Satyro,Castelo,Belo...</td>\n",
       "      <td>160.53</td>\n",
       "      <td>50.26</td>\n",
       "      <td>3.0</td>\n",
       "      <td>2.0</td>\n",
       "      <td>1.0</td>\n",
       "      <td>3.0</td>\n",
       "      <td>NaN</td>\n",
       "      <td>NaN</td>\n",
       "      <td>861600.00</td>\n",
       "      <td>210.79</td>\n",
       "      <td>4087.5</td>\n",
       "    </tr>\n",
       "  </tbody>\n",
       "</table>\n",
       "<p>2233 rows × 16 columns</p>\n",
       "</div>"
      ],
      "text/plain": [
       "      Código                                             Título   \n",
       "0      23807       Cobertura à venda, Carmo - Belo Horizonte/MG  \\\n",
       "1      23806       Cobertura à venda, Carmo - Belo Horizonte/MG   \n",
       "2      22922  Apartamento 2 Quartos à venda, Carmo - Belo Ho...   \n",
       "3      22918  Apartamento 2 Quartos à venda, Carmo - Belo Ho...   \n",
       "4      22917  Área privativa à venda, Carmo - Belo Horizonte/MG   \n",
       "...      ...                                                ...   \n",
       "2288    5380  Área privativa à venda, Sagrada Família - Belo...   \n",
       "2289    5379  Área privativa à venda, Sagrada Família - Belo...   \n",
       "2290    9808  Área privativa à venda, Belvedere - Belo Horiz...   \n",
       "2291   17364    Cobertura à venda, Anchieta - Belo Horizonte/MG   \n",
       "2292    6795     Cobertura à venda, Castelo - Belo Horizonte/MG   \n",
       "\n",
       "         Tipo Imóvel            Bairro   \n",
       "0          Cobertura            Carmo   \\\n",
       "1          Cobertura            Carmo    \n",
       "2        Apartamento            Carmo    \n",
       "3        Apartamento            Carmo    \n",
       "4     Área privativa            Carmo    \n",
       "...              ...               ...   \n",
       "2288  Área privativa  Sagrada Família    \n",
       "2289  Área privativa  Sagrada Família    \n",
       "2290  Área privativa        Belvedere    \n",
       "2291       Cobertura         Anchieta    \n",
       "2292       Cobertura          Castelo    \n",
       "\n",
       "                                               Endereço  Área interna   \n",
       "0                   746,Rua Pium-I,Carmo,Belo Horizonte        127.63  \\\n",
       "1                   746,Rua Pium-I,Carmo,Belo Horizonte        138.02   \n",
       "2                   746,Rua Pium-I,Carmo,Belo Horizonte         63.81   \n",
       "3                   746,Rua Pium-I,Carmo,Belo Horizonte         65.10   \n",
       "4                   746,Rua Pium-I,Carmo,Belo Horizonte        107.38   \n",
       "...                                                 ...           ...   \n",
       "2288   685,Rua São Roque,Sagrada Família,Belo Horizonte         91.53   \n",
       "2289   685,Rua São Roque,Sagrada Família,Belo Horizonte        137.39   \n",
       "2290  47,Rua Cypriano Souza Coutinho,Belvedere,Belo ...        227.14   \n",
       "2291  87,Rua Américo Diamantino,Anchieta,Belo Horizonte         64.47   \n",
       "2292  315,Rua Desembargador José Satyro,Castelo,Belo...        160.53   \n",
       "\n",
       "      Área externa  # de quartos  # de banheiros  # de suítes  # de vagas   \n",
       "0             0.00           2.0             2.0          1.0         3.0  \\\n",
       "1             0.00           2.0             2.0          1.0         3.0   \n",
       "2             0.00           2.0             2.0          1.0         2.0   \n",
       "3             0.00           2.0             2.0          1.0         2.0   \n",
       "4             0.00           2.0             2.0          1.0         2.0   \n",
       "...            ...           ...             ...          ...         ...   \n",
       "2288          0.00           3.0             2.0          1.0         3.0   \n",
       "2289          0.00           3.0             2.0          1.0         3.0   \n",
       "2290          0.00           4.0             3.0          2.0         4.0   \n",
       "2291         64.45           2.0             2.0          2.0         2.0   \n",
       "2292         50.26           3.0             2.0          1.0         3.0   \n",
       "\n",
       "        IPTU  Condomínio       Preço  Área total  Metro quadrado  \n",
       "0        NaN         NaN  1350000.00      127.63         10577.5  \n",
       "1        NaN         NaN  1450000.00      138.02         10505.7  \n",
       "2        NaN         NaN   915000.00       63.81         14339.4  \n",
       "3        NaN         NaN   883000.00       65.10         13563.7  \n",
       "4        NaN         NaN  1226000.00      107.38         11417.4  \n",
       "...      ...         ...         ...         ...             ...  \n",
       "2288  319.34       399.0   624235.50       91.53          6820.0  \n",
       "2289  319.34       399.0   864803.45      137.39          6294.5  \n",
       "2290     NaN         NaN  3112866.00      227.14         13704.6  \n",
       "2291     NaN         NaN  1475010.22      128.92         11441.3  \n",
       "2292     NaN         NaN   861600.00      210.79          4087.5  \n",
       "\n",
       "[2233 rows x 16 columns]"
      ]
     },
     "execution_count": 53,
     "metadata": {},
     "output_type": "execute_result"
    }
   ],
   "source": [
    "#inicializa um novo dataframe igual ao original\n",
    "df_com_metro_quadrado = df\n",
    "\n",
    "#exclui os valores nulo/zero de preço/Áreatotal\n",
    "df_com_metro_quadrado.dropna(subset=['Preço'], inplace=True)\n",
    "df_com_metro_quadrado.dropna(subset=['Área total'], inplace=True)\n",
    "df_com_metro_quadrado = df_com_metro_quadrado[(df_com_metro_quadrado['Área total'] != 0)]\n",
    "\n",
    "#Atribui um novo atributo 'Metro quadrado' que representa o preço do metro quadrado do imóvel\n",
    "df_com_metro_quadrado['Metro quadrado'] = round(df['Preço'] / df['Área total'], 1)\n",
    "df_com_metro_quadrado"
   ]
  },
  {
   "cell_type": "markdown",
   "id": "2b077139",
   "metadata": {},
   "source": [
    "Vamos analisar, então, os valores de metro quadrado dos dados.\n",
    "Primeiro, vemos que a grande maioria deles está entre 0 e 25000. Dessa forma, podemos ignorar esses outliers."
   ]
  },
  {
   "cell_type": "code",
   "execution_count": 56,
   "id": "34fd7a01",
   "metadata": {},
   "outputs": [
    {
     "data": {
      "text/plain": [
       "0.0022391401701746527"
      ]
     },
     "execution_count": 56,
     "metadata": {},
     "output_type": "execute_result"
    }
   ],
   "source": [
    "#calcula a proporção de imóveis com o metro quadrado de mais de 25000 e verifica que é muito baixa\n",
    "outliers = (df_com_metro_quadrado['Metro quadrado'] > 25000).sum()\n",
    "total = len(df_com_metro_quadrado)\n",
    "outliers/total"
   ]
  },
  {
   "cell_type": "markdown",
   "id": "1ef3f4f2",
   "metadata": {},
   "source": [
    "Agora plotamos o histograma desses dados:"
   ]
  },
  {
   "cell_type": "code",
   "execution_count": 51,
   "id": "2d556633",
   "metadata": {},
   "outputs": [
    {
     "data": {
      "text/plain": [
       "<Figure size 1000x600 with 0 Axes>"
      ]
     },
     "execution_count": 51,
     "metadata": {},
     "output_type": "execute_result"
    },
    {
     "data": {
      "image/png": "[encoded data removed]",
      "text/plain": [
       "<Figure size 640x480 with 1 Axes>"
      ]
     },
     "metadata": {},
     "output_type": "display_data"
    },
    {
     "data": {
      "text/plain": [
       "<Figure size 1000x600 with 0 Axes>"
      ]
     },
     "metadata": {},
     "output_type": "display_data"
    }
   ],
   "source": [
    "bin_edges = np.linspace(0, 25000, 10)\n",
    "df_com_metro_quadrado[['Metro quadrado']].hist(bins = bin_edges, grid = False, edgecolor='white')\n",
    "plt.figure(figsize=(10, 6))\n"
   ]
  },
  {
   "cell_type": "markdown",
   "id": "fbb5566d",
   "metadata": {},
   "source": [
    "Calculando a mediana da nossa Amostra:"
   ]
  },
  {
   "cell_type": "code",
   "execution_count": 28,
   "id": "0df808f1",
   "metadata": {},
   "outputs": [
    {
     "data": {
      "text/plain": [
       "8190.7"
      ]
     },
     "execution_count": 28,
     "metadata": {},
     "output_type": "execute_result"
    }
   ],
   "source": [
    "df_com_metro_quadrado['Metro quadrado'].median()"
   ]
  },
  {
   "cell_type": "markdown",
   "id": "f67ae4fd",
   "metadata": {},
   "source": [
    "Com isso em mente, vamos utilizar o método de Bootstrap para obter um intervalo de confiança para a mediana:"
   ]
  },
  {
   "cell_type": "code",
   "execution_count": 70,
   "id": "8e1e8832",
   "metadata": {},
   "outputs": [],
   "source": [
    "#cria uma nova amostra a partir de uma permutação aleatória da amostra original\n",
    "#e retorna a mediana do metro quadrado\n",
    "def one_bootstrap_median(data, column):\n",
    "    resample = data.sample(frac=1, replace=True)\n",
    "    return resample[column].median()"
   ]
  },
  {
   "cell_type": "code",
   "execution_count": 71,
   "id": "657159a7",
   "metadata": {},
   "outputs": [
    {
     "data": {
      "text/plain": [
       "8125.0"
      ]
     },
     "execution_count": 71,
     "metadata": {},
     "output_type": "execute_result"
    }
   ],
   "source": [
    "#calcula a mediana da nova amostra\n",
    "one_bootstrap_median(df_com_metro_quadrado, 'Metro quadrado')"
   ]
  },
  {
   "cell_type": "code",
   "execution_count": 33,
   "id": "06c13d9d",
   "metadata": {},
   "outputs": [],
   "source": [
    "# Gera uma lista de medianas de 50000 amostras bootstrap \n",
    "num_repetitions = 50000\n",
    "bstrap_medians = []\n",
    "for i in np.arange(num_repetitions):\n",
    "    bstrap_medians.append(one_bootstrap_median(df_com_metro_quadrado, 'Metro quadrado'))"
   ]
  },
  {
   "cell_type": "code",
   "execution_count": 34,
   "id": "1d3e949c",
   "metadata": {},
   "outputs": [
    {
     "name": "stdout",
     "output_type": "stream",
     "text": [
      "8000.0 8490.6\n"
     ]
    }
   ],
   "source": [
    "#calcula o intervalo que contém 95% das medianas calculadas acima\n",
    "left = np.percentile(bstrap_medians, 2.5)\n",
    "right = np.percentile(bstrap_medians, 97.5)\n",
    "\n",
    "print(left, right)"
   ]
  },
  {
   "cell_type": "markdown",
   "id": "de80c91a",
   "metadata": {},
   "source": [
    "Representando o intervalo através de um histograma:"
   ]
  },
  {
   "cell_type": "code",
   "execution_count": 37,
   "id": "8a2caacc",
   "metadata": {},
   "outputs": [
    {
     "data": {
      "text/plain": [
       "<matplotlib.lines.Line2D at 0x7f67c433b430>"
      ]
     },
     "execution_count": 37,
     "metadata": {},
     "output_type": "execute_result"
    },
    {
     "data": {
      "image/png": "[encoded data removed]",
      "text/plain": [
       "<Figure size 640x480 with 1 Axes>"
      ]
     },
     "metadata": {},
     "output_type": "display_data"
    }
   ],
   "source": [
    "plt.hist(bstrap_medians, bins=15, edgecolor = 'white')\n",
    "plt.axvline(x=left, color='y')\n",
    "plt.axvline(x=right, color='y')"
   ]
  },
  {
   "cell_type": "markdown",
   "id": "5379df8f",
   "metadata": {},
   "source": [
    "Chegamos a conclusão, portanto, que, com 95% de confiança, a mediana do valor do metro quadrado de um imóvel em Belo Horizonte está entre 8000 e 8490.6 reais. Vamos repetir o mesmo processo para a média:"
   ]
  },
  {
   "cell_type": "code",
   "execution_count": 69,
   "id": "9f2ed9ae",
   "metadata": {},
   "outputs": [],
   "source": [
    "#cria uma nova amostra a partir de uma permutação aleatória da amostra original\n",
    "#e retorna a média do metro quadrado\n",
    "def one_bootstrap_mean(data, column):\n",
    "    resample = data.sample(frac=1, replace=True)\n",
    "    return resample[column].mean()"
   ]
  },
  {
   "cell_type": "code",
   "execution_count": 41,
   "id": "ab96061f",
   "metadata": {},
   "outputs": [],
   "source": [
    "# Gera uma lista de médias de 50000 amostras bootstrap\n",
    "num_repetitions = 50000\n",
    "bstrap_means = []\n",
    "for i in np.arange(num_repetitions):\n",
    "    bstrap_means.append(one_bootstrap_mean(df_com_metro_quadrado, 'Metro quadrado'))"
   ]
  },
  {
   "cell_type": "code",
   "execution_count": 73,
   "id": "25de94a9",
   "metadata": {},
   "outputs": [
    {
     "name": "stdout",
     "output_type": "stream",
     "text": [
      "8796.35 8796.35\n"
     ]
    }
   ],
   "source": [
    "#calcula o intervalo que contém 95% das médias calculadas acima\n",
    "left = round(np.percentile(bstrap_means, 2.5),2)\n",
    "right = round(np.percentile(bstrap_means, 97.5),2)\n",
    "\n",
    "print(left, right)"
   ]
  },
  {
   "cell_type": "markdown",
   "id": "edae3a60",
   "metadata": {},
   "source": [
    "Representando o intervalo através de um histograma:"
   ]
  },
  {
   "cell_type": "code",
   "execution_count": 47,
   "id": "f2b7601b",
   "metadata": {},
   "outputs": [
    {
     "data": {
      "text/plain": [
       "<matplotlib.lines.Line2D at 0x7f67c0e2fbb0>"
      ]
     },
     "execution_count": 47,
     "metadata": {},
     "output_type": "execute_result"
    },
    {
     "data": {
      "image/png": "[encoded data removed]",
      "text/plain": [
       "<Figure size 640x480 with 1 Axes>"
      ]
     },
     "metadata": {},
     "output_type": "display_data"
    }
   ],
   "source": [
    "plt.hist(bstrap_means, bins=15, edgecolor = 'white')\n",
    "plt.axvline(x=left, color='y')\n",
    "plt.axvline(x=right, color='y')"
   ]
  },
  {
   "cell_type": "markdown",
   "id": "1394c9ce",
   "metadata": {},
   "source": [
    "Chegamos a conclusão, portanto, que, com 95% de confiança, a média do valor do metro quadrado de um imóvel em Belo Horizonte está entre 8000 e 8490.6 reais. "
   ]
  }
 ],
 "metadata": {
  "kernelspec": {
   "display_name": "Python 3 (ipykernel)",
   "language": "python",
   "name": "python3"
  },
  "language_info": {
   "codemirror_mode": {
    "name": "ipython",
    "version": 3
   },
   "file_extension": ".py",
   "mimetype": "text/x-python",
   "name": "python",
   "nbconvert_exporter": "python",
   "pygments_lexer": "ipython3",
   "version": "3.10.9"
  }
 },
 "nbformat": 4,
 "nbformat_minor": 5
}
