{
 "cells": [
  {
   "cell_type": "code",
   "execution_count": 2,
   "id": "3c986d01",
   "metadata": {},
   "outputs": [],
   "source": [
    "from bs4 import BeautifulSoup\n",
    "from urllib.request import urlopen\n",
    "import pandas as pd\n",
    "import re\n",
    "from tqdm.notebook import tqdm\n",
    "import csv"
   ]
  },
  {
   "cell_type": "code",
   "execution_count": null,
   "id": "c2d9d4dc",
   "metadata": {},
   "outputs": [
    {
     "data": {
      "application/vnd.jupyter.widget-view+json": {
       "model_id": "8189c7161a574d6dbf2e5d87e0cb5822",
       "version_major": 2,
       "version_minor": 0
      },
      "text/plain": [
       "  0%|          | 0/248 [00:00<?, ?it/s]"
      ]
     },
     "metadata": {},
     "output_type": "display_data"
    }
   ],
   "source": [
    "url = 'https://decisaoimoveis.com.br/compra/?pagination='\n",
    "\n",
    "urlsAnuncios = [] # Lista que guardará as urls de todos os anuncios\n",
    "\n",
    "for i in tqdm(range(1, 249)): #1 - 249: páginas de anuncios\n",
    "    html = urlopen(url + str(i))\n",
    "    bs = BeautifulSoup(html)\n",
    "    \n",
    "    for j in bs.find_all('div', attrs={'class':'item-info col-sm-7'}): # Encontra a url de cada anúncio da página\n",
    "        urlsAnuncios.append(j.a['href'])"
   ]
  },
  {
   "cell_type": "code",
   "execution_count": 6,
   "id": "dc63f5f0",
   "metadata": {},
   "outputs": [],
   "source": [
    "# Salva as urls em um arquivo .txt\n",
    "file = open('urls.txt', 'w')\n",
    "\n",
    "for i in urlsAnuncios:\n",
    "    file.write(i + '\\n')\n",
    "    \n",
    "file.close()"
   ]
  },
  {
   "cell_type": "code",
   "execution_count": 8,
   "id": "18372588",
   "metadata": {},
   "outputs": [],
   "source": [
    "# Lê o arquivo .txt com as urls e as armazena em uma lista\n",
    "file = open('urls.txt', 'r')\n",
    "\n",
    "urlsAnunciosM = []\n",
    "\n",
    "for line in file.readlines():\n",
    "    urlsAnunciosM.append(line.strip())"
   ]
  },
  {
   "cell_type": "code",
   "execution_count": 74,
   "id": "781e5b24",
   "metadata": {
    "scrolled": true
   },
   "outputs": [],
   "source": [
    "# Inicializa o header do .csv que armazenará as entradas\n",
    "csvFile = open('bd.csv', 'w', encoding='utf-8', newline='')\n",
    "header = ['Código', 'Título', 'Bairro', 'Endereço', 'Área interna', 'Área externa', '# de quartos', '# de banheiros', '# de suítes', '# de vagas', 'IPTU', 'Condomínio', 'Preço']\n",
    "writer = csv.writer(csvFile)\n",
    "writer.writerow(header)\n",
    "csvFile.close()"
   ]
  },
  {
   "cell_type": "code",
   "execution_count": 75,
   "id": "506addd0",
   "metadata": {},
   "outputs": [],
   "source": [
    "startPoint = 0 # Ponto de inicio atual para não precisar reiniciar do zero caso encontre algum erro\n",
    "total = len(urlsAnunciosM)"
   ]
  },
  {
   "cell_type": "code",
   "execution_count": 89,
   "id": "b7014bbe",
   "metadata": {},
   "outputs": [
    {
     "data": {
      "application/vnd.jupyter.widget-view+json": {
       "model_id": "0ac5220cc72e4aca8cae15e785edac08",
       "version_major": 2,
       "version_minor": 0
      },
      "text/plain": [
       "  0%|          | 0/2095 [00:00<?, ?it/s]"
      ]
     },
     "metadata": {},
     "output_type": "display_data"
    }
   ],
   "source": [
    "# Código | Título | Bairro | Endereço | Área interna | Área externa | # de quartos | # de banheiros | # de suítes | # de vagas | IPTU | Condomínio | Preço\n",
    "for i in tqdm(range(startPoint, total)):\n",
    "    html\n",
    "    try:\n",
    "        html = urlopen(urlsAnunciosM[i])\n",
    "    except:\n",
    "        errorFile = open('errorUrls.txt', 'a', newline='')\n",
    "        errorFile.write(urlsAnunciosM[i] + '\\n')\n",
    "        errorFile.close()\n",
    "        continue\n",
    "    bs = BeautifulSoup(html)\n",
    "    data = []\n",
    "\n",
    "    # Código\n",
    "    cod = bs.find('span', {'class':'head-info'}).text\n",
    "    cod = int(cod.replace('CÓD: ', ''))\n",
    "    data.append(cod)\n",
    "\n",
    "    # Título\n",
    "    titulo = bs.find('div', {'class':'information'}).h2.text\n",
    "    data.append(titulo)\n",
    "\n",
    "    # Bairro\n",
    "    bairro = bs.find_all('span', {'class':'head-info'})[1].text\n",
    "    bairro = bairro.replace('BAIRRO: ', '')\n",
    "    data.append(bairro)\n",
    "\n",
    "    # Endereço\n",
    "    endereco = bs.find('div', {'class':'uter'}).find_all('script')[1].text\n",
    "    endereco = re.findall(r'\"([^\"]*)\"', endereco)[0]\n",
    "    data.append(endereco)\n",
    "\n",
    "\n",
    "    # Especificações\n",
    "    specs = bs.find_all('div', {'class':'specs-item'})\n",
    "    proxSpec = 1\n",
    "\n",
    "    # Área interna\n",
    "    try:\n",
    "        areaI = specs[0].find('div', {'class':'inner-area'}).find_all('span')[1].text\n",
    "        areaI = float(areaI.replace(' m²', '').replace(',','.'))\n",
    "        data.append(areaI)\n",
    "    except:\n",
    "        areaI = float(\"nan\")\n",
    "        data.append(areaI)\n",
    "\n",
    "    # Área externa \n",
    "    areaE = \"\"\n",
    "    try:\n",
    "        areaE = specs[1].find('div', {'class':'inner-area'}).find_all('span')[1].text\n",
    "    except:\n",
    "        areaE = float(\"nan\")\n",
    "        data.append(areaE)\n",
    "    else:\n",
    "        proxSpec += 1\n",
    "        areaE = float(areaE.replace(' m²', '').replace(',','.'))\n",
    "        data.append(areaE)\n",
    "\n",
    "    # # de quartos\n",
    "    try:\n",
    "        quartos = specs[proxSpec].find('span').text\n",
    "        quartos = int(quartos.replace(' quartos', ''))\n",
    "        data.append(quartos)\n",
    "    except:\n",
    "        quartos = float(\"nan\")\n",
    "        proxSpec -= 1\n",
    "        data.append(quartos)\n",
    "\n",
    "    # # de banheiros\n",
    "    try:\n",
    "        banheiros = specs[proxSpec + 1].find('span').text\n",
    "        banheiros = int(banheiros.replace(' banheiros', ''))\n",
    "        data.append(banheiros)\n",
    "    except:\n",
    "        banheiros = float(\"nan\")\n",
    "        proxSpec -= 1\n",
    "        data.append(banheiros)\n",
    "\n",
    "    # # de suítes\n",
    "    try:\n",
    "        suites = specs[proxSpec + 2].find('span').text\n",
    "        suites = int(suites.replace(' suíte', ''))\n",
    "        data.append(suites)\n",
    "    except:\n",
    "        suites = float(\"nan\")\n",
    "        proxSpec -= 1\n",
    "        data.append(suites)\n",
    "\n",
    "    # # de vagas\n",
    "    try:    \n",
    "        vagas = specs[proxSpec + 3].find('span').text\n",
    "        vagas = int(vagas.replace(' vagas', ''))\n",
    "        data.append(vagas)\n",
    "    except:\n",
    "        vagas = float(\"nan\")\n",
    "        proxSpec -= 1\n",
    "        data.append(vagas)\n",
    "\n",
    "    # IPTU e Condomínio\n",
    "    specs2 = bs.find('div', {'class':'inline specs'}).find_all('span')\n",
    "\n",
    "    if (len(specs2) == 2):\n",
    "        spec1 = specs2[1].text\n",
    "        if \"IPTU\" in spec1:\n",
    "            iptu = float(spec1.replace('IPTU: R$ ', '').replace('.', '').replace(',','.'))\n",
    "            data.append(iptu)\n",
    "            cond = float(\"nan\")\n",
    "            data.append(cond)\n",
    "        else:\n",
    "            iptu = float(\"nan\")\n",
    "            data.append(iptu)\n",
    "            cond = float(spec1.replace('Condomínio: R$ ', '').replace('.', '').replace(',','.'))\n",
    "            data.append(cond)\n",
    "    elif (len(specs2) == 3):\n",
    "        iptu = specs2[1].text\n",
    "        iptu = float(iptu.replace('IPTU: R$ ', '').replace('.', '').replace(',','.'))\n",
    "        data.append(iptu)\n",
    "\n",
    "        cond = specs2[2].text\n",
    "        cond = float(cond.replace('Condomínio: R$ ', '').replace('.', '').replace(',','.'))\n",
    "        data.append(cond)\n",
    "    else:\n",
    "        iptu = float(\"nan\")\n",
    "        data.append(iptu)\n",
    "\n",
    "        cond = float(\"nan\")\n",
    "        data.append(cond)\n",
    "\n",
    "    # Preço\n",
    "    preco = bs.find('div', {'class':'price'}).h3.text\n",
    "    preco = float(preco.replace('R$ ', '').replace('.', '').replace(',', '.'))\n",
    "    data.append(preco)\n",
    "    \n",
    "    # Escreve a nova linha no .csv\n",
    "    csvFile = open('bd.csv', 'a', encoding='utf-8', newline='')\n",
    "    writer = csv.writer(csvFile)\n",
    "    writer.writerow(data)\n",
    "    csvFile.close()\n",
    "    \n",
    "    # Atualiza o novo ponto de início\n",
    "    startPoint += 1"
   ]
  }
 ],
 "metadata": {
  "kernelspec": {
   "display_name": "Python 3 (ipykernel)",
   "language": "python",
   "name": "python3"
  },
  "language_info": {
   "codemirror_mode": {
    "name": "ipython",
    "version": 3
   },
   "file_extension": ".py",
   "mimetype": "text/x-python",
   "name": "python",
   "nbconvert_exporter": "python",
   "pygments_lexer": "ipython3",
   "version": "3.10.9"
  }
 },
 "nbformat": 4,
 "nbformat_minor": 5
}
