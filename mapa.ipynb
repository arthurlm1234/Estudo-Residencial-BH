{
 "cells": [
  {
   "cell_type": "code",
   "execution_count": 9,
   "metadata": {},
   "outputs": [],
   "source": [
    "import pandas as pd\n",
    "import geopandas as gpd\n",
    "import folium\n",
    "from geopy.geocoders import Nominatim\n",
    "from geopy.exc import GeocoderTimedOut\n",
    "import locale"
   ]
  },
  {
   "attachments": {},
   "cell_type": "markdown",
   "metadata": {},
   "source": [
    "## Geocodificação dos Endereços\n",
    "\n",
    "Agora vamos utilizar o serviço de geocodificação para obter a latitude e longitude de cada imóvel.\n"
   ]
  },
  {
   "cell_type": "code",
   "execution_count": 4,
   "metadata": {},
   "outputs": [],
   "source": [
    "df = pd.read_csv('DecisaoImoveisLimpo.csv')\n",
    "\n",
    "# Use Geopy para obter as coordenadas de latitude e longitude dos endereços\n",
    "geolocator = Nominatim(user_agent='myGeocoder')\n",
    "\n",
    "# Função para lidar com o GeocoderTimedOut\n",
    "def do_geocode(address):\n",
    "    try:\n",
    "        return geolocator.geocode(address, timeout=15)\n",
    "    except GeocoderTimedOut:\n",
    "        return do_geocode(address)\n",
    "\n",
    "# Cria uma nova coluna 'coords' com as coordenadas de cada imóvel\n",
    "df['coords'] = df['Endereço'].apply(lambda x: do_geocode(x) if x else None)\n",
    "df['coords'] = df['coords'].apply(lambda x: (x.latitude, x.longitude) if x else (None, None))\n",
    "\n",
    "# Agora, 'coords' é uma coluna de tuplas, então vamos dividi-la em duas colunas: 'latitude' e 'longitude'\n",
    "df[['latitude', 'longitude']] = pd.DataFrame(df['coords'].tolist(), index=df.index)\n",
    "\n",
    "# Exclui a coluna 'coords' pois ela já não é mais necessária\n",
    "df = df.drop(['coords'], axis=1)\n"
   ]
  },
  {
   "attachments": {},
   "cell_type": "markdown",
   "metadata": {},
   "source": [
    "## Criação do Mapa\n",
    "\n",
    "Vamos utilizar a biblioteca Folium para criar um mapa interativo dos imóveis.\n"
   ]
  },
  {
   "cell_type": "code",
   "execution_count": 10,
   "metadata": {},
   "outputs": [
    {
     "name": "stderr",
     "output_type": "stream",
     "text": [
      "/tmp/ipykernel_22889/1405676474.py:15: UserWarning: Geometry is in a geographic CRS. Results from 'centroid' are likely incorrect. Use 'GeoSeries.to_crs()' to re-project geometries to a projected CRS before this operation.\n",
      "\n",
      "  x_map = gdf.geometry.centroid.x.mean()\n",
      "/tmp/ipykernel_22889/1405676474.py:16: UserWarning: Geometry is in a geographic CRS. Results from 'centroid' are likely incorrect. Use 'GeoSeries.to_crs()' to re-project geometries to a projected CRS before this operation.\n",
      "\n",
      "  y_map = gdf.geometry.centroid.y.mean()\n"
     ]
    }
   ],
   "source": [
    "# Define a localização para o Brasil\n",
    "locale.setlocale(locale.LC_ALL, 'pt_BR.UTF-8')\n",
    "\n",
    "# Lendo os dados do mapa de bairros de Belo Horizonte\n",
    "url = 'https://geoservicos.pbh.gov.br/geoserver/wfs?service=WFS&version=1.0.0&request=GetFeature&typeName=ide_bhgeo:BAIRRO&srsName=EPSG:31983&outputFormat=application%2Fjson'\n",
    "gdf = gpd.read_file(url)\n",
    "\n",
    "# Convertendo para lat-long\n",
    "gdf = gdf.to_crs(epsg=4326)\n",
    "\n",
    "# Converta o DataFrame em um GeoDataFrame\n",
    "gdf_imoveis = gpd.GeoDataFrame(df, geometry=gpd.points_from_xy(df.longitude, df.latitude))\n",
    "\n",
    "# Cria o mapa com os bairros de Belo Horizonte\n",
    "x_map = gdf.geometry.centroid.x.mean()\n",
    "y_map = gdf.geometry.centroid.y.mean()\n",
    "mymap = folium.Map(location=[y_map, x_map], zoom_start=11, tiles='OpenStreetMap')\n",
    "\n",
    "# Adiciona os polígonos dos bairros ao mapa\n",
    "folium.GeoJson(gdf).add_to(mymap)\n",
    "\n",
    "# Adiciona os pontos de cada imóvel ao mapa\n",
    "for _, imovel in gdf_imoveis.iterrows():\n",
    "    if not pd.isnull(imovel['latitude']) and not pd.isnull(imovel['longitude']):\n",
    "        # Formata o preço com símbolo \"R$\", duas casas decimais e pontos de separação\n",
    "        preco_formatado = locale.currency(imovel['Preço'], grouping=True)\n",
    "\n",
    "        # Constrói o texto do popup com o preço formatado\n",
    "        popup_text = f\"Título: {imovel['Título']}<br> Endereço: {imovel['Endereço']}<br> Preço: {preco_formatado}\"\n",
    "        folium.Marker(location=[imovel['latitude'], imovel['longitude']],\n",
    "                      popup=popup_text).add_to(mymap)\n",
    "\n",
    "mymap.save('mapa.html')\n"
   ]
  }
 ],
 "metadata": {
  "kernelspec": {
   "display_name": "Python 3",
   "language": "python",
   "name": "python3"
  },
  "language_info": {
   "codemirror_mode": {
    "name": "ipython",
    "version": 3
   },
   "file_extension": ".py",
   "mimetype": "text/x-python",
   "name": "python",
   "nbconvert_exporter": "python",
   "pygments_lexer": "ipython3",
   "version": "3.8.10"
  },
  "orig_nbformat": 4
 },
 "nbformat": 4,
 "nbformat_minor": 2
}
